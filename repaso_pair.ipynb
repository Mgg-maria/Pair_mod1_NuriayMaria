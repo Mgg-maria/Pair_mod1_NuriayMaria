{
 "cells": [
  {
   "cell_type": "markdown",
   "metadata": {},
   "source": [
    "Clasificación de triángulos: Pide al usuario que ingrese las longitudes de tres lados de un triángulo. Determina si el triángulo es equilátero (todos los lados iguales), isósceles (dos lados iguales), o escaleno (ningún lado igual)."
   ]
  },
  {
   "cell_type": "code",
   "execution_count": 1,
   "metadata": {},
   "outputs": [
    {
     "data": {
      "text/plain": [
       "2"
      ]
     },
     "execution_count": 1,
     "metadata": {},
     "output_type": "execute_result"
    }
   ],
   "source": [
    "pregunta_lado1 = int(input(\"¿Cuánto mide el primer lado:\" ))\n",
    "pregunta_lado1"
   ]
  },
  {
   "cell_type": "code",
   "execution_count": 2,
   "metadata": {},
   "outputs": [
    {
     "data": {
      "text/plain": [
       "2"
      ]
     },
     "execution_count": 2,
     "metadata": {},
     "output_type": "execute_result"
    }
   ],
   "source": [
    "pregunta_lado2 = int(input(\"¿Cuánto mide el segundo lado:\" ))\n",
    "pregunta_lado2"
   ]
  },
  {
   "cell_type": "code",
   "execution_count": 3,
   "metadata": {},
   "outputs": [
    {
     "data": {
      "text/plain": [
       "5"
      ]
     },
     "execution_count": 3,
     "metadata": {},
     "output_type": "execute_result"
    }
   ],
   "source": [
    "pregunta_lado3 = int(input(\"¿Cuánto mide el tercer lado:\" ))\n",
    "pregunta_lado3"
   ]
  },
  {
   "cell_type": "code",
   "execution_count": 4,
   "metadata": {},
   "outputs": [
    {
     "name": "stdout",
     "output_type": "stream",
     "text": [
      "Es un triángulo isósceles\n"
     ]
    }
   ],
   "source": [
    "if pregunta_lado1 == pregunta_lado2 == pregunta_lado3:\n",
    "    print(\"Es un triángulo equilátero\")\n",
    "elif pregunta_lado1 != pregunta_lado2 != pregunta_lado3:\n",
    "    print(\"Es un triángulo escaleno\")\n",
    "else:\n",
    "    print(\"Es un triángulo isósceles\")\n",
    "\n"
   ]
  },
  {
   "cell_type": "markdown",
   "metadata": {},
   "source": [
    "\n",
    "Conversión de temperatura: Crea un programa que permita al usuario convertir temperaturas entre Celsius y Fahrenheit. Pide al usuario que ingrese la temperatura y la unidad (C o F) y realiza la conversión."
   ]
  },
  {
   "cell_type": "code",
   "execution_count": 5,
   "metadata": {},
   "outputs": [
    {
     "name": "stdout",
     "output_type": "stream",
     "text": [
      "La temperatura elegida por el usuario es 10 C\n",
      "La conversion de Celsius a Fahrenheit es 50.0 F\n"
     ]
    }
   ],
   "source": [
    "\n",
    "\n",
    "pregunta_temperatura = int(input(\"Ingresa la temperatura:\" ))\n",
    "pregunta_unidad = input(\"Indica la unidad de medida (C o F):\" ).upper()\n",
    "print(\"La temperatura elegida por el usuario es\", pregunta_temperatura,pregunta_unidad)\n",
    "\n",
    "# Para convertir celsius a Fahrenheit se multiplica por 9, divides por 5 y sumas 32. Ejemplo: (0 °C × 9 / 5) + 32 = 32 °F\n",
    "# Para convertir Fahrenheit a Celsius restas 32 a la temperatura y multiplicas por 5/9. Ejemplo: (32 °F − 32) × 5 / 9 = 0 °C\n",
    "\n",
    "if pregunta_unidad == \"C\":\n",
    "    print(\"La conversion de Celsius a Fahrenheit es\" , (pregunta_temperatura * 9/5) + 32, \"F\")\n",
    "else:\n",
    "    print(\"La conversión de Fahrenheit a Celsius es\", (pregunta_temperatura - 32) * 5/9, \"C\") \n"
   ]
  },
  {
   "cell_type": "markdown",
   "metadata": {},
   "source": [
    "Cajero automático: Simula un cajero automático que permite a los usuarios verificar su saldo, depositar y retirar dinero. El programa debe mantener un registro del saldo actual."
   ]
  },
  {
   "cell_type": "code",
   "execution_count": null,
   "metadata": {},
   "outputs": [],
   "source": []
  },
  {
   "cell_type": "code",
   "execution_count": null,
   "metadata": {},
   "outputs": [],
   "source": []
  },
  {
   "cell_type": "code",
   "execution_count": null,
   "metadata": {},
   "outputs": [],
   "source": []
  }
 ],
 "metadata": {
  "kernelspec": {
   "display_name": "base",
   "language": "python",
   "name": "python3"
  },
  "language_info": {
   "codemirror_mode": {
    "name": "ipython",
    "version": 3
   },
   "file_extension": ".py",
   "mimetype": "text/x-python",
   "name": "python",
   "nbconvert_exporter": "python",
   "pygments_lexer": "ipython3",
   "version": "3.12.7"
  }
 },
 "nbformat": 4,
 "nbformat_minor": 2
}
