{
 "cells": [
  {
   "cell_type": "markdown",
   "metadata": {},
   "source": [
    "\n",
    "Calcular el área de un círculo.\n",
    "\n",
    "Descripción: Crea una función llamada calcular_area_circulo que tome el radio como parámetro y devuelva el área del círculo."
   ]
  },
  {
   "cell_type": "code",
   "execution_count": 1,
   "metadata": {},
   "outputs": [
    {
     "name": "stdout",
     "output_type": "stream",
     "text": [
      "78.5\n"
     ]
    }
   ],
   "source": [
    "def calcular_area_circulo(radio):\n",
    "    area_circulo = 3.14 * radio**2\n",
    "    return(area_circulo)\n",
    "calcular_area_circulo(5)\n",
    "resultado_area = calcular_area_circulo(5)\n",
    "print(resultado_area)"
   ]
  },
  {
   "cell_type": "markdown",
   "metadata": {},
   "source": [
    "Contar la cantidad de caracteres en una cadena.\n",
    "\n",
    "Descripción: Crea una función llamada contar_caracteres que tome una cadena como parámetro y devuelva la cantidad de caracteres que contiene."
   ]
  },
  {
   "cell_type": "code",
   "execution_count": 9,
   "metadata": {},
   "outputs": [
    {
     "name": "stdout",
     "output_type": "stream",
     "text": [
      "10\n"
     ]
    }
   ],
   "source": [
    "def contar_caracteres(cadenatexto):\n",
    "    resultado = len(cadenatexto)\n",
    "    return(resultado)\n",
    "contar_caracteres(\"hola Nuria\")\n",
    "resultado_final = contar_caracteres(\"hola Nuria\")\n",
    "print(resultado_final)\n",
    "\n"
   ]
  },
  {
   "cell_type": "markdown",
   "metadata": {},
   "source": [
    "Determinar si una cadena es un palíndromo.\n",
    "\n",
    "Descripción: Crea una función llamada es_palindromo que tome una cadena como parámetro y devuelva True si es un palíndromo, o False si no lo es."
   ]
  },
  {
   "cell_type": "code",
   "execution_count": 17,
   "metadata": {},
   "outputs": [
    {
     "name": "stdout",
     "output_type": "stream",
     "text": [
      "True\n"
     ]
    }
   ],
   "source": [
    "def es_palindromo(cadena12):\n",
    "     if cadena12 == cadena12[::-1]:\n",
    "        return True\n",
    "     else:\n",
    "        return False\n",
    "     \n",
    "es_palindromo(\"oso\")\n",
    "contar_palindromo = es_palindromo(\"oso\")\n",
    "print(contar_palindromo)\n",
    "       \n",
    "        "
   ]
  },
  {
   "cell_type": "code",
   "execution_count": null,
   "metadata": {},
   "outputs": [],
   "source": []
  },
  {
   "cell_type": "code",
   "execution_count": null,
   "metadata": {},
   "outputs": [],
   "source": []
  },
  {
   "cell_type": "code",
   "execution_count": null,
   "metadata": {},
   "outputs": [],
   "source": []
  }
 ],
 "metadata": {
  "kernelspec": {
   "display_name": "base",
   "language": "python",
   "name": "python3"
  },
  "language_info": {
   "codemirror_mode": {
    "name": "ipython",
    "version": 3
   },
   "file_extension": ".py",
   "mimetype": "text/x-python",
   "name": "python",
   "nbconvert_exporter": "python",
   "pygments_lexer": "ipython3",
   "version": "3.12.7"
  }
 },
 "nbformat": 4,
 "nbformat_minor": 2
}
