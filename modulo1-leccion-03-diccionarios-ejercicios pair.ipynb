{
 "cells": [
  {
   "cell_type": "markdown",
   "metadata": {},
   "source": [
    "Ejercicio 1\n",
    "Crear un diccionario vacío"
   ]
  },
  {
   "cell_type": "code",
   "execution_count": 1,
   "metadata": {},
   "outputs": [
    {
     "name": "stdout",
     "output_type": "stream",
     "text": [
      "{}\n"
     ]
    }
   ],
   "source": [
    "diccionario={}\n",
    "print(diccionario)"
   ]
  },
  {
   "cell_type": "markdown",
   "metadata": {},
   "source": [
    "\n",
    "Ejercicio 2\n",
    "Crear un diccionario con elementos"
   ]
  },
  {
   "cell_type": "code",
   "execution_count": 65,
   "metadata": {},
   "outputs": [
    {
     "name": "stdout",
     "output_type": "stream",
     "text": [
      "{'koala': 'Australia', 'lince': 'España', 'jirafa': 'Congo', 'Piton': 'Colombia', 'oso panda': 'China'}\n"
     ]
    }
   ],
   "source": [
    "diccionario1={\"koala\":\"Australia\", \"lince\":\"España\",\"jirafa\":\"Congo\",\"Piton\":\"Colombia\",\"oso panda\":\"China\"}\n",
    "print(diccionario1)"
   ]
  },
  {
   "cell_type": "markdown",
   "metadata": {},
   "source": [
    " Ejercicio 3\n",
    " Acceder al valor de una clave en un diccionario"
   ]
  },
  {
   "cell_type": "code",
   "execution_count": 52,
   "metadata": {},
   "outputs": [],
   "source": [
    "clave=input(\"nombre de animal\")\n"
   ]
  },
  {
   "cell_type": "code",
   "execution_count": 43,
   "metadata": {},
   "outputs": [],
   "source": [
    "diccionario1.get(clave)"
   ]
  },
  {
   "cell_type": "code",
   "execution_count": 53,
   "metadata": {},
   "outputs": [
    {
     "name": "stdout",
     "output_type": "stream",
     "text": [
      "China\n"
     ]
    }
   ],
   "source": [
    "print(diccionario1.get(clave))"
   ]
  },
  {
   "cell_type": "markdown",
   "metadata": {},
   "source": [
    "Ejercicio 4\n",
    "Agregar un nuevo par clave-valor a un diccionario"
   ]
  },
  {
   "cell_type": "code",
   "execution_count": 9,
   "metadata": {},
   "outputs": [
    {
     "name": "stdout",
     "output_type": "stream",
     "text": [
      "{'koala': 'Australia', 'lince': 'España', 'jirafa': 'Liberia', 'Piton': 'Colombia', 'oso panda': 'China', 'lobo': 'Siberia'}\n"
     ]
    }
   ],
   "source": [
    "diccionario1[\"lobo\"]=\"Siberia\"\n",
    "print(diccionario1)"
   ]
  },
  {
   "cell_type": "markdown",
   "metadata": {},
   "source": [
    "Ejercicio 5\n",
    "Actualizar el valor de una clave en un diccionario"
   ]
  },
  {
   "cell_type": "code",
   "execution_count": 10,
   "metadata": {},
   "outputs": [
    {
     "name": "stdout",
     "output_type": "stream",
     "text": [
      "{'koala': 'Australia', 'lince': 'España', 'jirafa': 'Liberia', 'Piton': 'Colombia', 'oso panda': 'China', 'lobo': 'Siberia'}\n"
     ]
    }
   ],
   "source": [
    "diccionario1[\"jirafa\"]=\"Liberia\"\n",
    "print(diccionario1)"
   ]
  },
  {
   "cell_type": "markdown",
   "metadata": {},
   "source": [
    " Ejercicio 6\n",
    " Eliminar un par clave-valor de un diccionario"
   ]
  },
  {
   "cell_type": "code",
   "execution_count": 60,
   "metadata": {},
   "outputs": [
    {
     "data": {
      "text/plain": [
       "'Congo'"
      ]
     },
     "execution_count": 60,
     "metadata": {},
     "output_type": "execute_result"
    }
   ],
   "source": [
    "animal_borrado=input(\"este elemento se elimino\")\n",
    "\n",
    "\n"
   ]
  },
  {
   "cell_type": "code",
   "execution_count": 63,
   "metadata": {},
   "outputs": [
    {
     "name": "stdout",
     "output_type": "stream",
     "text": [
      "jirafa\n"
     ]
    }
   ],
   "source": [
    "print(animal_borrado)"
   ]
  },
  {
   "cell_type": "code",
   "execution_count": 67,
   "metadata": {},
   "outputs": [
    {
     "data": {
      "text/plain": [
       "'Congo'"
      ]
     },
     "execution_count": 67,
     "metadata": {},
     "output_type": "execute_result"
    }
   ],
   "source": [
    "diccionario1.pop(animal_borrado)"
   ]
  },
  {
   "cell_type": "code",
   "execution_count": 68,
   "metadata": {},
   "outputs": [
    {
     "name": "stdout",
     "output_type": "stream",
     "text": [
      "{'koala': 'Australia', 'lince': 'España', 'Piton': 'Colombia', 'oso panda': 'China'}\n"
     ]
    }
   ],
   "source": [
    "print(diccionario1)"
   ]
  },
  {
   "cell_type": "markdown",
   "metadata": {},
   "source": [
    "Ejercicio 7\n",
    "Verificar si una clave está presente en un diccionario"
   ]
  },
  {
   "cell_type": "code",
   "execution_count": 70,
   "metadata": {},
   "outputs": [
    {
     "data": {
      "text/plain": [
       "True"
      ]
     },
     "execution_count": 70,
     "metadata": {},
     "output_type": "execute_result"
    }
   ],
   "source": [
    "clave_buscar=input(\"¿Que animal quieres buscar?\")\n",
    "clave_buscar in diccionario1"
   ]
  },
  {
   "cell_type": "markdown",
   "metadata": {},
   "source": [
    "\n",
    "Ejercicio 8\n",
    "Obtener una lista de todas las claves de un diccionario"
   ]
  },
  {
   "cell_type": "code",
   "execution_count": 71,
   "metadata": {},
   "outputs": [
    {
     "data": {
      "text/plain": [
       "dict_keys(['koala', 'lince', 'Piton', 'oso panda'])"
      ]
     },
     "execution_count": 71,
     "metadata": {},
     "output_type": "execute_result"
    }
   ],
   "source": [
    "diccionario1.keys()"
   ]
  },
  {
   "cell_type": "markdown",
   "metadata": {},
   "source": [
    "Ejercicio 9\n",
    "Obtener una lista de todos los valores de un diccionario"
   ]
  },
  {
   "cell_type": "code",
   "execution_count": 72,
   "metadata": {},
   "outputs": [
    {
     "data": {
      "text/plain": [
       "dict_values(['Australia', 'España', 'Colombia', 'China'])"
      ]
     },
     "execution_count": 72,
     "metadata": {},
     "output_type": "execute_result"
    }
   ],
   "source": [
    "diccionario1.values()"
   ]
  },
  {
   "cell_type": "markdown",
   "metadata": {},
   "source": [
    "Ejercicio 10\n",
    "Utilizar el método setdefault() para establecer un valor predeterminado si la clave no existe"
   ]
  },
  {
   "cell_type": "code",
   "execution_count": 79,
   "metadata": {},
   "outputs": [
    {
     "name": "stdout",
     "output_type": "stream",
     "text": [
      "{'koala': 'Australia', 'lince': 'España', 'Piton': 'Colombia', 'oso panda': 'China', 'lagartija': 'Francia'}\n"
     ]
    }
   ],
   "source": [
    "diccionario1.setdefault(\"lagartija\",\"Francia\")\n",
    "print(diccionario1)"
   ]
  },
  {
   "cell_type": "markdown",
   "metadata": {},
   "source": [
    " Ejercicio 11\n",
    " Manipulación de un diccionario utilizando pop() y popitem()"
   ]
  },
  {
   "cell_type": "code",
   "execution_count": 84,
   "metadata": {},
   "outputs": [
    {
     "name": "stdout",
     "output_type": "stream",
     "text": [
      "{'lince': 'España', 'Piton': 'Colombia', 'oso panda': 'China', 'lagartija': 'Francia'}\n"
     ]
    }
   ],
   "source": [
    "diccionario1.pop(\"koala\")\n",
    "print(diccionario1)\n"
   ]
  },
  {
   "cell_type": "markdown",
   "metadata": {},
   "source": [
    ".pop()ha borrado la clave con su valor que se ha indicado entre parentesis de la dccionario original"
   ]
  },
  {
   "cell_type": "code",
   "execution_count": 86,
   "metadata": {},
   "outputs": [
    {
     "data": {
      "text/plain": [
       "('lagartija', 'Francia')"
      ]
     },
     "execution_count": 86,
     "metadata": {},
     "output_type": "execute_result"
    }
   ],
   "source": [
    "diccionario1.popitem()"
   ]
  },
  {
   "cell_type": "code",
   "execution_count": 87,
   "metadata": {},
   "outputs": [
    {
     "name": "stdout",
     "output_type": "stream",
     "text": [
      "{'lince': 'España', 'Piton': 'Colombia', 'oso panda': 'China'}\n"
     ]
    }
   ],
   "source": [
    "print(diccionario1)"
   ]
  },
  {
   "cell_type": "markdown",
   "metadata": {},
   "source": [
    "popitem()elimina directamente la ultima pareja clave/valor del diccionario original"
   ]
  }
 ],
 "metadata": {
  "kernelspec": {
   "display_name": "base",
   "language": "python",
   "name": "python3"
  },
  "language_info": {
   "codemirror_mode": {
    "name": "ipython",
    "version": 3
   },
   "file_extension": ".py",
   "mimetype": "text/x-python",
   "name": "python",
   "nbconvert_exporter": "python",
   "pygments_lexer": "ipython3",
   "version": "3.12.7"
  }
 },
 "nbformat": 4,
 "nbformat_minor": 2
}
